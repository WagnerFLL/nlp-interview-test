{
  "nbformat": 4,
  "nbformat_minor": 0,
  "metadata": {
    "colab": {
      "name": "nlp-test.ipynb",
      "provenance": [],
      "collapsed_sections": [],
      "authorship_tag": "ABX9TyMsha1W7GF1V22AFbyva6CY",
      "include_colab_link": true
    },
    "kernelspec": {
      "name": "python3",
      "display_name": "Python 3"
    }
  },
  "cells": [
    {
      "cell_type": "markdown",
      "metadata": {
        "id": "view-in-github",
        "colab_type": "text"
      },
      "source": [
        "<a href=\"https://colab.research.google.com/github/lucasraggi89/nlp-interview-test/blob/master/nlp_test.ipynb\" target=\"_parent\"><img src=\"https://colab.research.google.com/assets/colab-badge.svg\" alt=\"Open In Colab\"/></a>"
      ]
    },
    {
      "cell_type": "markdown",
      "metadata": {
        "id": "5JWXZ-E26KOf",
        "colab_type": "text"
      },
      "source": [
        "# NLP Engineer Internship Test\n",
        "\n",
        "## Objective\n",
        "\n",
        "- Make an intent classifier with the dataset provided in the repository in which the imput will be a phrase and the model must correctly classify it in one of the intentions defined in the dataset\n",
        "- The main objective of the test is to assess the candidate's ability to solve problems and demonstrate his attempts, hypotheses, solutions clearly and the ability to analyze data, extract information, suggest conclusions, and support decision-making.\n",
        "\n",
        "### Example interaction with the resulting model\n",
        "Just a demonstrative example to understand the problem, the output can be formatted according to the candidate's preference so that it shows the intention and the confidence that the model returned\n",
        "```\n",
        "example 1:\n",
        "input: como ocorre a transferência de processos para o SEI?\n",
        "output: \n",
        "intent: processos_administrativos \n",
        "confidence: 96.7%\n",
        "\n",
        "example 2:\n",
        "input: quais são os documentos disponíveis?\n",
        "output: \n",
        "intent: documentação\n",
        "confidence: 83.2%\n",
        "```\n",
        "\n",
        "## Requirements\n",
        "- Put all the code, logic, hypotheses, etc. organized in the jupyter notebook of the repository (i.e. specific actions you would take based on your analysis) and methodology.\n",
        "\n",
        "## Information about the datasets\n",
        "\n",
        "The dataset is in the dataset.txt file in the repository, it is in the format:\n",
        "\n",
        "```\n",
        "intent:intent_name1\n",
        "-sentence1\n",
        "-sentence2\n",
        "...\n",
        "-sentenceN\n",
        "\n",
        "intent:intent_name2\n",
        "-sentence1\n",
        "-sentence2\n",
        "...\n",
        "-sentenceN\n",
        "\n",
        "...\n",
        "```\n",
        "\n",
        "Tip: it is interesting to put your different approaches and attempts in the notebook to support decision making<br/>\n",
        "Have fun!"
      ]
    },
    {
      "cell_type": "code",
      "metadata": {
        "id": "gn0sWRCSx89T",
        "colab_type": "code",
        "colab": {}
      },
      "source": [
        ""
      ],
      "execution_count": 0,
      "outputs": []
    }
  ]
}