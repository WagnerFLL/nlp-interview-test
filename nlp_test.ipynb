{
 "cells": [
  {
   "cell_type": "markdown",
   "metadata": {
    "colab_type": "text",
    "id": "5JWXZ-E26KOf"
   },
   "source": [
    "# NLP Engineer Internship Test\n",
    "\n",
    "## Objective\n",
    "\n",
    "- Make an intent classifier with the dataset provided in the repository in which the imput will be a phrase and the model must correctly classify it in one of the intentions defined in the dataset\n",
    "- The main objective of the test is to assess the candidate's ability to solve problems and demonstrate his attempts, hypotheses, solutions clearly and the ability to analyze data, extract information, suggest conclusions, and support decision-making.\n",
    "\n",
    "### Example interaction with the resulting model\n",
    "Just a demonstrative example to understand the problem, the output can be formatted according to the candidate's preference so that it shows the intention and the confidence that the model returned\n",
    "```\n",
    "example 1:\n",
    "input: como ocorre a transferência de processos para o SEI?\n",
    "output: \n",
    "intent: processos_administrativos \n",
    "confidence: 96.7%\n",
    "\n",
    "example 2:\n",
    "input: quais são os documentos disponíveis?\n",
    "output: \n",
    "intent: documentação\n",
    "confidence: 83.2%\n",
    "```\n",
    "\n",
    "## Information about the datasets\n",
    "\n",
    "The dataset is in the dataset.txt file in the repository, it is in the format:\n",
    "\n",
    "```\n",
    "intent:intent_name1\n",
    "-sentence1\n",
    "-sentence2\n",
    "...\n",
    "-sentenceN\n",
    "\n",
    "intent:intent_name2\n",
    "-sentence1\n",
    "-sentence2\n",
    "...\n",
    "-sentenceN\n",
    "\n",
    "...\n",
    "```\n",
    "\n",
    "## Requirements\n",
    "- Put all the code, logic, hypotheses, etc. organized in the nlp_test.pynb jupyter notebook of the repository (i.e. specific actions you would take based on your analysis) and methodology.\n",
    "- Fork this repository\n",
    "- Make your fork private\n",
    "- Give access to the user \"lucasraggi89\" in your private fork\n",
    "- Make all changes in your fork\n",
    "- Only the commits before the deadline will be considered\n",
    "\n",
    "Tip: it is interesting to put your different approaches and attempts in the notebook to support decision making<br/>\n",
    "Have fun!"
   ]
  },
  {
   "cell_type": "markdown",
   "metadata": {
    "colab": {},
    "colab_type": "code",
    "id": "gn0sWRCSx89T"
   },
   "source": [
    "___\n",
    "# Starting my test here!"
   ]
  },
  {
   "cell_type": "markdown",
   "metadata": {},
   "source": [
    "## Content"
   ]
  },
  {
   "cell_type": "markdown",
   "metadata": {},
   "source": [
    "- [Introduction to the problem](#Introduction-to-the-problem)\n",
    "- [The dataset](#The-dataset)\n",
    "- [Preprocessing our data](#Preprocessing-our-data)\n",
    "- [Feature Extraction: Transforming words in numbers](#Feature-Extraction:-Transforming-words-in-numbers)\n",
    "- [Taking a look at the ML models (Model Selection)](#Taking-a-look-at-the-ML-models-(Model-Selection))\n",
    "- [Conclusion and Decision](#Conclusion-and-Decision)\n",
    "- [Interaction with the resulting model](#Interaction-with-the-resulting-model)"
   ]
  },
  {
   "cell_type": "markdown",
   "metadata": {},
   "source": [
    "## Introduction to the problem"
   ]
  },
  {
   "cell_type": "markdown",
   "metadata": {},
   "source": [
    "The given problem is a NLP problem, where we receive an user's interaction phrase, and the task is to process this content and classify in useful **intents** to make smartful automated decisions, generally used in chatbots."
   ]
  },
  {
   "cell_type": "markdown",
   "metadata": {},
   "source": [
    "## The dataset"
   ]
  },
  {
   "cell_type": "markdown",
   "metadata": {},
   "source": [
    "The provided data is simple, consists in one *.txt* file with some inputs separeted by the intent class. As it is in no structured format (as *.json*, *.csv*, etc), I'm going to create a parser function which transforms this text data into python *dict*, to facility the data wrangling, manipulations and Pandas DataFrame creation. "
   ]
  },
  {
   "cell_type": "code",
   "execution_count": 127,
   "metadata": {},
   "outputs": [],
   "source": [
    "import pandas as pd\n",
    "\n",
    "def txt_data_to_dict(filepath):\n",
    "    # creating dict which\n",
    "    data_dict = {\n",
    "                'phrase': [],\n",
    "                'intent': [],\n",
    "                }\n",
    "    try:\n",
    "        with open(filepath, 'r') as txt_file:\n",
    "            # processing the lines\n",
    "            intent_class = None\n",
    "            phrase = None\n",
    "            for line in txt_file:\n",
    "                if 'intent' in line:\n",
    "                    # get intent class and remove '\\n' charactere\n",
    "                    intent_class = line.split(':')[1].replace('\\n', '')\n",
    "                    continue\n",
    "                if '-' in line:\n",
    "                    # get string after '-' and remove blank spaces from the end and beginning\n",
    "                    phrase = line[1:].strip()\n",
    "                    # adding this 'row' to the dict\n",
    "                    data_dict['phrase'].append(phrase)\n",
    "                    data_dict['intent'].append(intent_class)\n",
    "            \n",
    "            return data_dict\n",
    "    except FileNotFoundError:\n",
    "        print('The file was not found, make sure the filepath is correct.')\n",
    "            \n",
    "            \n",
    "path = 'data.txt'\n",
    "data = txt_data_to_dict(path)\n",
    "# Creating pandas DataFrame from dict:\n",
    "df = pd.DataFrame.from_dict(data)"
   ]
  },
  {
   "cell_type": "markdown",
   "metadata": {},
   "source": [
    "So, here we have a pandas DataFrame with two columns:\n",
    "1. The user input **phrase**\n",
    "2. The class which represents the **intent**"
   ]
  },
  {
   "cell_type": "code",
   "execution_count": 128,
   "metadata": {},
   "outputs": [
    {
     "data": {
      "text/html": [
       "<div>\n",
       "<style scoped>\n",
       "    .dataframe tbody tr th:only-of-type {\n",
       "        vertical-align: middle;\n",
       "    }\n",
       "\n",
       "    .dataframe tbody tr th {\n",
       "        vertical-align: top;\n",
       "    }\n",
       "\n",
       "    .dataframe thead th {\n",
       "        text-align: right;\n",
       "    }\n",
       "</style>\n",
       "<table border=\"1\" class=\"dataframe\">\n",
       "  <thead>\n",
       "    <tr style=\"text-align: right;\">\n",
       "      <th></th>\n",
       "      <th>phrase</th>\n",
       "      <th>intent</th>\n",
       "    </tr>\n",
       "  </thead>\n",
       "  <tbody>\n",
       "    <tr>\n",
       "      <th>0</th>\n",
       "      <td>apg</td>\n",
       "      <td>competencias</td>\n",
       "    </tr>\n",
       "    <tr>\n",
       "      <th>1</th>\n",
       "      <td>APG</td>\n",
       "      <td>competencias</td>\n",
       "    </tr>\n",
       "    <tr>\n",
       "      <th>2</th>\n",
       "      <td>Assessoria de Planejamento e Gestão</td>\n",
       "      <td>competencias</td>\n",
       "    </tr>\n",
       "    <tr>\n",
       "      <th>3</th>\n",
       "      <td>onde a  diretoria financeira  atua</td>\n",
       "      <td>competencias</td>\n",
       "    </tr>\n",
       "    <tr>\n",
       "      <th>4</th>\n",
       "      <td>qual a função principal da  diretoria geral ?</td>\n",
       "      <td>competencias</td>\n",
       "    </tr>\n",
       "  </tbody>\n",
       "</table>\n",
       "</div>"
      ],
      "text/plain": [
       "                                          phrase        intent\n",
       "0                                            apg  competencias\n",
       "1                                            APG  competencias\n",
       "2            Assessoria de Planejamento e Gestão  competencias\n",
       "3             onde a  diretoria financeira  atua  competencias\n",
       "4  qual a função principal da  diretoria geral ?  competencias"
      ]
     },
     "execution_count": 128,
     "metadata": {},
     "output_type": "execute_result"
    }
   ],
   "source": [
    "df.head()"
   ]
  },
  {
   "cell_type": "markdown",
   "metadata": {},
   "source": [
    "### Dataset distribution"
   ]
  },
  {
   "cell_type": "markdown",
   "metadata": {},
   "source": [
    "It's also important take a look at the class distribution in our dataset, because it must impact directly at the result model. So:"
   ]
  },
  {
   "cell_type": "code",
   "execution_count": 129,
   "metadata": {},
   "outputs": [
    {
     "data": {
      "text/plain": [
       "Text(0, 0.5, 'Frequency')"
      ]
     },
     "execution_count": 129,
     "metadata": {},
     "output_type": "execute_result"
    },
    {
     "data": {
      "image/png": "[encoded data removed]",
      "text/plain": [
       "<Figure size 648x504 with 1 Axes>"
      ]
     },
     "metadata": {
      "needs_background": "light"
     },
     "output_type": "display_data"
    }
   ],
   "source": [
    "import matplotlib.pyplot as plt\n",
    "\n",
    "count_classes = pd.value_counts(df['intent'], sort = True) / len(df['intent'])\n",
    "\n",
    "# Creating a plot with bar kind:\n",
    "count_classes.plot(kind = 'bar', rot=0, figsize=(9, 7))\n",
    "\n",
    "# Setting plotting title and axi's legends:\n",
    "plt.title(\"Data Class distribution\")\n",
    "plt.xlabel(\"Class\")\n",
    "plt.ylabel(\"Frequency\")"
   ]
  },
  {
   "cell_type": "markdown",
   "metadata": {},
   "source": [
    "We can consider that the dataset is balanced, it's not critical enough to use imbalanced data techniques."
   ]
  },
  {
   "cell_type": "markdown",
   "metadata": {},
   "source": [
    "## Preprocessing our data"
   ]
  },
  {
   "cell_type": "markdown",
   "metadata": {},
   "source": [
    "Now that we have our dataset ready, we start the most important phase in a Data Science pipeline and must start to apply some preprocessing NLP techniques to get a better representation of the data and input to the ML model. As the saying goes \"Garbage in, garbage out!\"."
   ]
  },
  {
   "cell_type": "markdown",
   "metadata": {},
   "source": [
    "### Converted Accented Characters"
   ]
  },
  {
   "cell_type": "markdown",
   "metadata": {},
   "source": [
    "Words with accent marks like “não” and “usuário” can be converted and standardized to “nao” and “usuario”, else our NLP model will treat “não” and “nao” as different words even though they are referring to same thing. To do this, we use the module unidecode."
   ]
  },
  {
   "cell_type": "code",
   "execution_count": 130,
   "metadata": {},
   "outputs": [],
   "source": [
    "# If unidecode library isn't installed, uncomment the line bellow to install\n",
    "# !pip install unidecode\n",
    "\n",
    "from unidecode import unidecode\n",
    "\n",
    "def remove_accented_chars(dict_data, column_name):\n",
    "    \"\"\"remove accented characters from text, e.g. usuário\"\"\"\n",
    "    # Create lambda function to decode\n",
    "    remove_accent = lambda x: unidecode(x)\n",
    "    # Apply lambda with map() in list\n",
    "    no_accented_phrases = list(map(remove_accent, dict_data[column_name]))\n",
    "    # Get new values without accent\n",
    "    dict_data[column_name] = no_accented_phrases\n",
    "    \n",
    "    return dict_data\n",
    "\n",
    "data = remove_accented_chars(data, 'phrase')\n",
    "# Creating pandas DataFrame from dict:\n",
    "df = pd.DataFrame.from_dict(data)"
   ]
  },
  {
   "cell_type": "markdown",
   "metadata": {},
   "source": [
    "### Lowercasing"
   ]
  },
  {
   "cell_type": "markdown",
   "metadata": {},
   "source": [
    "Lowercasing ALL your text data is one of the simplest and most effective form of text preprocessing. It is applicable to most text mining and NLP problems and can help in cases where your dataset is not very large and significantly helps with consistency of expected output decreasing the variation of words to be understood by the model."
   ]
  },
  {
   "cell_type": "code",
   "execution_count": 131,
   "metadata": {},
   "outputs": [],
   "source": [
    "def lowercasing_data(dict_data, column_name):\n",
    "    \"\"\"remove accented characters from text, e.g. usuário\"\"\"\n",
    "    # Create lambda function to lowercase\n",
    "    lowercasing = lambda x: x.lower()\n",
    "    # Apply lambda with map() in list\n",
    "    lowercased_phrases = list(map(lowercasing, dict_data[column_name]))\n",
    "    # Get new lowercased values\n",
    "    dict_data[column_name] = lowercased_phrases\n",
    "    \n",
    "    return dict_data\n",
    "\n",
    "data = lowercasing_data(data, 'phrase')\n",
    "# Creating pandas DataFrame from dict:\n",
    "df = pd.DataFrame.from_dict(data)"
   ]
  },
  {
   "cell_type": "markdown",
   "metadata": {},
   "source": [
    "### Extra Blank Space Removal"
   ]
  },
  {
   "cell_type": "code",
   "execution_count": 132,
   "metadata": {},
   "outputs": [],
   "source": [
    "def remove_extra_spaces(data, column_name):\n",
    "    # Create lambda function to remove extra blank spaces\n",
    "    remove_spaces = lambda x: \" \".join(x.split())\n",
    "    # Apply lambda with map() in list\n",
    "    cleaned_phrases = list(map(remove_spaces, data[column_name]))\n",
    "    # Get new lowercased values\n",
    "    data[column_name] = cleaned_phrases\n",
    "    \n",
    "    return data\n",
    "        \n",
    "data = remove_extra_spaces(data, 'phrase')\n",
    "# Creating pandas DataFrame from dict:\n",
    "df = pd.DataFrame.from_dict(data)"
   ]
  },
  {
   "cell_type": "markdown",
   "metadata": {},
   "source": [
    "### Stopwords Removal"
   ]
  },
  {
   "cell_type": "markdown",
   "metadata": {},
   "source": [
    "Stop words are a set of commonly used words in a language. Examples of stop words in Portuguese are “a”, “o”, “é”, “da” and etc. The intuition behind using stop words is that, by removing low information words from text, we can focus on the **important** words instead."
   ]
  },
  {
   "cell_type": "code",
   "execution_count": 133,
   "metadata": {},
   "outputs": [],
   "source": [
    "# If spacy library isn't installed, uncomment the line bellow to install\n",
    "# !pip install spacy\n",
    "\n",
    "from spacy.lang.pt import Portuguese\n",
    "from spacy.lang.pt.stop_words import STOP_WORDS\n",
    "\n",
    "def remove_stop_words(data):\n",
    "    # Load Portuguese tokenizer, tagger, parser, NER and word vectors\n",
    "    nlp = Portuguese()\n",
    "    size = len(data['phrase'])\n",
    "    # New dict to put preprocessed data\n",
    "    cleaned_dict = {\n",
    "                'phrase': [],\n",
    "                'intent': [],\n",
    "                }\n",
    "    \n",
    "    for i in range(size):\n",
    "        my_doc = nlp(data['phrase'][i])\n",
    "        intent_class = data['intent'][i]\n",
    "        \n",
    "        # Create list of word tokens\n",
    "        token_list = []\n",
    "        \n",
    "        for token in my_doc:\n",
    "            token_list.append(token.text)\n",
    "        \n",
    "        # Create list of word tokens after removing stopwords\n",
    "        filtered_sentence = ''\n",
    "\n",
    "        for word in token_list:\n",
    "            lexeme = nlp.vocab[word]\n",
    "            if lexeme.is_stop == False:\n",
    "                filtered_sentence += word + ' '\n",
    "                \n",
    "        cleaned_dict['phrase'].append(filtered_sentence[:-1])\n",
    "        cleaned_dict['intent'].append(intent_class)\n",
    "        filtered_sentence = ''\n",
    "    \n",
    "    return cleaned_dict\n",
    "\n",
    "data = remove_stop_words(data)\n",
    "# Creating pandas DataFrame from dict:\n",
    "df = pd.DataFrame.from_dict(data)"
   ]
  },
  {
   "cell_type": "markdown",
   "metadata": {},
   "source": [
    "### Text Normalization"
   ]
  },
  {
   "cell_type": "markdown",
   "metadata": {},
   "source": [
    "Text Normalization is a process of transforming a word into a single canonical form. This can be done by two processes, stemming and lemmatization. I'm going to choose **lemmatization** because I'm using SpaCy and has no module for stemming. To perform lemmatization, check out the below code:"
   ]
  },
  {
   "cell_type": "code",
   "execution_count": 134,
   "metadata": {},
   "outputs": [],
   "source": [
    "from spacy.lang.pt import Portuguese\n",
    "\n",
    "def normalize_data(data):\n",
    "    nlp = Portuguese()\n",
    "    size = len(data['phrase'])\n",
    "    \n",
    "    normalized_dict = {\n",
    "                'phrase': [],\n",
    "                'intent': [],\n",
    "                }\n",
    "    for i in range(size):\n",
    "        doc = nlp(data['phrase'][i])\n",
    "        intent_class = data['intent'][i]\n",
    "        lemma_word = ''\n",
    "        for token in doc:\n",
    "            lemma_word += token.lemma_ + ' '\n",
    "        normalized_dict['phrase'].append(lemma_word[:-1])\n",
    "        normalized_dict['intent'].append(intent_class)\n",
    "        lemma_word = ''\n",
    "        \n",
    "    return normalized_dict\n",
    "\n",
    "data = normalize_data(data)\n",
    "# Creating pandas DataFrame from dict:\n",
    "df = pd.DataFrame.from_dict(data)"
   ]
  },
  {
   "cell_type": "markdown",
   "metadata": {},
   "source": [
    "## More treatments that I won't use"
   ]
  },
  {
   "cell_type": "markdown",
   "metadata": {},
   "source": [
    "Exist more strategies to preprocess the data to the NLP problems, but I judge them not necessary for our dataset. I going to list a few bellow:\n",
    "\n",
    "- Convert number words to numeric form -> Convert \"três\" to \"3\"\n",
    "- Remove numbers -> Identify number like \"3\" and remove them\n",
    "- Remove pontuation -> Remove from phrase characteres like: '!', '?', ','\n",
    "- Text Enrichment / Augmentation"
   ]
  },
  {
   "cell_type": "markdown",
   "metadata": {},
   "source": [
    "## Feature Extraction: Transforming words in numbers"
   ]
  },
  {
   "cell_type": "markdown",
   "metadata": {},
   "source": [
    "In order to run machine learning algorithms (which are mathematical/statistical models) we need to convert the text into numbers. For this, we have some famous approches like:\n",
    "\n",
    "- Count Vector\n",
    "- TF-IDF Count\n",
    "- Word2Vec\n",
    "- Doc2Vec\n",
    "\n",
    "I'm going to use some of them to transform our dataset and pass to the next step of pipeline."
   ]
  },
  {
   "cell_type": "code",
   "execution_count": 135,
   "metadata": {},
   "outputs": [],
   "source": [
    "# !pip install sklearn\n",
    "from sklearn.feature_extraction.text import CountVectorizer\n",
    "from sklearn.feature_extraction.text import TfidfVectorizer\n",
    "\n",
    "count_vectorizer = CountVectorizer()\n",
    "\n",
    "tfid_vectorizer = TfidfVectorizer()\n",
    "\n",
    "vectorizer_methods = [count_vectorizer, tfid_vectorizer]"
   ]
  },
  {
   "cell_type": "markdown",
   "metadata": {},
   "source": [
    "## Taking a look at the ML models (Model Selection)"
   ]
  },
  {
   "cell_type": "markdown",
   "metadata": {},
   "source": [
    "### Splitting the dataset"
   ]
  },
  {
   "cell_type": "code",
   "execution_count": 136,
   "metadata": {},
   "outputs": [],
   "source": [
    "import warnings\n",
    "warnings.filterwarnings(\"ignore\")\n",
    "from sklearn.model_selection import train_test_split\n",
    "\n",
    "X = df['phrase']\n",
    "y = df['intent']\n",
    "# Split the dataset\n",
    "X_train, X_test, y_train, y_test = train_test_split(X, y, test_size=0.15, random_state=0)"
   ]
  },
  {
   "cell_type": "markdown",
   "metadata": {},
   "source": [
    "### Approach at model selection"
   ]
  },
  {
   "cell_type": "markdown",
   "metadata": {},
   "source": [
    "I'm going to choose models from different categories, e.g. linear models, ensemble methods, SVMs..\n",
    "\n",
    "And evaluate each model tuning the hyper-parameters with a Grid Search and Cross Validation.\n",
    "\n",
    "For this, I'll build a general function which receives the classifier, parameters for hyper-tuning, vectorizer methods and the metrics to evaluate."
   ]
  },
  {
   "cell_type": "code",
   "execution_count": 137,
   "metadata": {},
   "outputs": [],
   "source": [
    "from sklearn.model_selection import GridSearchCV\n",
    "from sklearn.linear_model import LinearRegression\n",
    "from sklearn.ensemble import RandomForestClassifier\n",
    "       \n",
    "def search_best_model(classifier, scores, tuned_parameters, vectorizer_methods):\n",
    "\n",
    "    for score in scores:\n",
    "        for vect in vectorizer_methods:\n",
    "            print(\"# Tuning hyper-parameters with \" + vect.__class__.__name__ + \" for %s\" % score)\n",
    "            print()\n",
    "            \n",
    "            # Intance the grid search and choose Cross Validation folders \n",
    "            clf = GridSearchCV(\n",
    "                classifier, tuned_parameters, cv=10, scoring='%s' % score\n",
    "                )\n",
    "\n",
    "            X_train_vectorized = vect.fit_transform(X_train)\n",
    "            clf.fit(X_train_vectorized, y_train)\n",
    "\n",
    "            print(\"Best parameters set found:\")\n",
    "            print()\n",
    "            print(clf.best_params_)\n",
    "            print()\n",
    "            print(\"Best score result: \" + str(clf.best_score_))\n",
    "            print()\n",
    "            print(\"Scores on development set:\")\n",
    "            print()\n",
    "            \n",
    "            means = clf.cv_results_['mean_test_score']\n",
    "            stds = clf.cv_results_['std_test_score']\n",
    "            for mean, std, params in zip(means, stds, clf.cv_results_['params']):\n",
    "                print(\"%0.3f (+/-%0.03f) for %r\"\n",
    "                      % (mean, std * 2, params))\n",
    "            print()\n",
    "            X_test_vectorized = vect.transform(X_test)\n",
    "            y_true, y_pred = y_test, clf.predict(X_test_vectorized)"
   ]
  },
  {
   "cell_type": "markdown",
   "metadata": {},
   "source": [
    "### Linear Models: Stochastic Gradient Descent (SGD)"
   ]
  },
  {
   "cell_type": "code",
   "execution_count": 138,
   "metadata": {},
   "outputs": [
    {
     "name": "stdout",
     "output_type": "stream",
     "text": [
      "# Tuning hyper-parameters with CountVectorizer for accuracy\n",
      "\n",
      "Best parameters set found:\n",
      "\n",
      "{'loss': 'hinge', 'max_iter': 1000}\n",
      "\n",
      "Best score result: 0.8413105413105413\n",
      "\n",
      "Scores on development set:\n",
      "\n",
      "0.830 (+/-0.087) for {'loss': 'hinge', 'penalty': 'l1'}\n",
      "0.804 (+/-0.125) for {'loss': 'hinge', 'penalty': 'l2'}\n",
      "0.811 (+/-0.118) for {'loss': 'squared_hinge', 'penalty': 'l1'}\n",
      "0.796 (+/-0.120) for {'loss': 'squared_hinge', 'penalty': 'l2'}\n",
      "0.834 (+/-0.113) for {'loss': 'modified_huber', 'penalty': 'l1'}\n",
      "0.830 (+/-0.102) for {'loss': 'modified_huber', 'penalty': 'l2'}\n",
      "0.841 (+/-0.125) for {'loss': 'hinge', 'max_iter': 1000}\n",
      "0.822 (+/-0.097) for {'loss': 'hinge', 'max_iter': 500}\n",
      "0.826 (+/-0.131) for {'loss': 'hinge', 'max_iter': 700}\n",
      "0.808 (+/-0.140) for {'loss': 'squared_hinge', 'max_iter': 1000}\n",
      "0.815 (+/-0.162) for {'loss': 'squared_hinge', 'max_iter': 500}\n",
      "0.796 (+/-0.122) for {'loss': 'squared_hinge', 'max_iter': 700}\n",
      "0.799 (+/-0.147) for {'loss': 'modified_huber', 'max_iter': 1000}\n",
      "0.834 (+/-0.113) for {'loss': 'modified_huber', 'max_iter': 500}\n",
      "0.823 (+/-0.126) for {'loss': 'modified_huber', 'max_iter': 700}\n",
      "\n",
      "# Tuning hyper-parameters with TfidfVectorizer for accuracy\n",
      "\n",
      "Best parameters set found:\n",
      "\n",
      "{'loss': 'hinge', 'max_iter': 1000}\n",
      "\n",
      "Best score result: 0.856980056980057\n",
      "\n",
      "Scores on development set:\n",
      "\n",
      "0.845 (+/-0.119) for {'loss': 'hinge', 'penalty': 'l1'}\n",
      "0.845 (+/-0.141) for {'loss': 'hinge', 'penalty': 'l2'}\n",
      "0.781 (+/-0.132) for {'loss': 'squared_hinge', 'penalty': 'l1'}\n",
      "0.766 (+/-0.155) for {'loss': 'squared_hinge', 'penalty': 'l2'}\n",
      "0.841 (+/-0.149) for {'loss': 'modified_huber', 'penalty': 'l1'}\n",
      "0.834 (+/-0.122) for {'loss': 'modified_huber', 'penalty': 'l2'}\n",
      "0.857 (+/-0.108) for {'loss': 'hinge', 'max_iter': 1000}\n",
      "0.830 (+/-0.096) for {'loss': 'hinge', 'max_iter': 500}\n",
      "0.853 (+/-0.118) for {'loss': 'hinge', 'max_iter': 700}\n",
      "0.777 (+/-0.134) for {'loss': 'squared_hinge', 'max_iter': 1000}\n",
      "0.800 (+/-0.133) for {'loss': 'squared_hinge', 'max_iter': 500}\n",
      "0.777 (+/-0.139) for {'loss': 'squared_hinge', 'max_iter': 700}\n",
      "0.823 (+/-0.106) for {'loss': 'modified_huber', 'max_iter': 1000}\n",
      "0.822 (+/-0.090) for {'loss': 'modified_huber', 'max_iter': 500}\n",
      "0.830 (+/-0.132) for {'loss': 'modified_huber', 'max_iter': 700}\n",
      "\n"
     ]
    }
   ],
   "source": [
    "from sklearn.linear_model import SGDClassifier\n",
    "\n",
    "# Set the parameters for the grid search\n",
    "tuned_parameters = [{'loss': ['hinge', 'squared_hinge', 'modified_huber'], 'penalty': ['l1', 'l2']},\n",
    "                    {'loss': ['hinge', 'squared_hinge', 'modified_huber'], 'max_iter': [1000, 500, 700]}]\n",
    "\n",
    "# Define the metrics to evaluate the model\n",
    "scores = ['accuracy']\n",
    "\n",
    "search_best_model(SGDClassifier(), scores, tuned_parameters, vectorizer_methods)"
   ]
  },
  {
   "cell_type": "markdown",
   "metadata": {},
   "source": [
    "### Linear Models: Logistic Regression"
   ]
  },
  {
   "cell_type": "code",
   "execution_count": 139,
   "metadata": {},
   "outputs": [
    {
     "name": "stdout",
     "output_type": "stream",
     "text": [
      "# Tuning hyper-parameters with CountVectorizer for accuracy\n",
      "\n",
      "Best parameters set found:\n",
      "\n",
      "{'C': 1.5, 'penalty': 'l2', 'solver': 'liblinear'}\n",
      "\n",
      "Best score result: 0.8756410256410257\n",
      "\n",
      "Scores on development set:\n",
      "\n",
      "0.777 (+/-0.144) for {'C': 1, 'penalty': 'l1', 'solver': 'liblinear'}\n",
      "nan (+/-nan) for {'C': 1, 'penalty': 'l1', 'solver': 'lbfgs'}\n",
      "nan (+/-nan) for {'C': 1, 'penalty': 'l1', 'solver': 'newton-cg'}\n",
      "0.857 (+/-0.111) for {'C': 1, 'penalty': 'l2', 'solver': 'liblinear'}\n",
      "0.864 (+/-0.114) for {'C': 1, 'penalty': 'l2', 'solver': 'lbfgs'}\n",
      "0.864 (+/-0.114) for {'C': 1, 'penalty': 'l2', 'solver': 'newton-cg'}\n",
      "nan (+/-nan) for {'C': 1, 'penalty': 'elasticnet', 'solver': 'liblinear'}\n",
      "nan (+/-nan) for {'C': 1, 'penalty': 'elasticnet', 'solver': 'lbfgs'}\n",
      "nan (+/-nan) for {'C': 1, 'penalty': 'elasticnet', 'solver': 'newton-cg'}\n",
      "0.706 (+/-0.128) for {'C': 0.5, 'penalty': 'l1', 'solver': 'liblinear'}\n",
      "nan (+/-nan) for {'C': 0.5, 'penalty': 'l1', 'solver': 'lbfgs'}\n",
      "nan (+/-nan) for {'C': 0.5, 'penalty': 'l1', 'solver': 'newton-cg'}\n",
      "0.823 (+/-0.156) for {'C': 0.5, 'penalty': 'l2', 'solver': 'liblinear'}\n",
      "0.838 (+/-0.126) for {'C': 0.5, 'penalty': 'l2', 'solver': 'lbfgs'}\n",
      "0.838 (+/-0.126) for {'C': 0.5, 'penalty': 'l2', 'solver': 'newton-cg'}\n",
      "nan (+/-nan) for {'C': 0.5, 'penalty': 'elasticnet', 'solver': 'liblinear'}\n",
      "nan (+/-nan) for {'C': 0.5, 'penalty': 'elasticnet', 'solver': 'lbfgs'}\n",
      "nan (+/-nan) for {'C': 0.5, 'penalty': 'elasticnet', 'solver': 'newton-cg'}\n",
      "0.819 (+/-0.102) for {'C': 1.5, 'penalty': 'l1', 'solver': 'liblinear'}\n",
      "nan (+/-nan) for {'C': 1.5, 'penalty': 'l1', 'solver': 'lbfgs'}\n",
      "nan (+/-nan) for {'C': 1.5, 'penalty': 'l1', 'solver': 'newton-cg'}\n",
      "0.876 (+/-0.082) for {'C': 1.5, 'penalty': 'l2', 'solver': 'liblinear'}\n",
      "0.872 (+/-0.108) for {'C': 1.5, 'penalty': 'l2', 'solver': 'lbfgs'}\n",
      "0.872 (+/-0.108) for {'C': 1.5, 'penalty': 'l2', 'solver': 'newton-cg'}\n",
      "nan (+/-nan) for {'C': 1.5, 'penalty': 'elasticnet', 'solver': 'liblinear'}\n",
      "nan (+/-nan) for {'C': 1.5, 'penalty': 'elasticnet', 'solver': 'lbfgs'}\n",
      "nan (+/-nan) for {'C': 1.5, 'penalty': 'elasticnet', 'solver': 'newton-cg'}\n",
      "\n",
      "# Tuning hyper-parameters with TfidfVectorizer for accuracy\n",
      "\n",
      "Best parameters set found:\n",
      "\n",
      "{'C': 1.5, 'penalty': 'l2', 'solver': 'lbfgs'}\n",
      "\n",
      "Best score result: 0.8641025641025643\n",
      "\n",
      "Scores on development set:\n",
      "\n",
      "0.747 (+/-0.160) for {'C': 1, 'penalty': 'l1', 'solver': 'liblinear'}\n",
      "nan (+/-nan) for {'C': 1, 'penalty': 'l1', 'solver': 'lbfgs'}\n",
      "nan (+/-nan) for {'C': 1, 'penalty': 'l1', 'solver': 'newton-cg'}\n",
      "0.815 (+/-0.075) for {'C': 1, 'penalty': 'l2', 'solver': 'liblinear'}\n",
      "0.822 (+/-0.062) for {'C': 1, 'penalty': 'l2', 'solver': 'lbfgs'}\n",
      "0.822 (+/-0.062) for {'C': 1, 'penalty': 'l2', 'solver': 'newton-cg'}\n",
      "nan (+/-nan) for {'C': 1, 'penalty': 'elasticnet', 'solver': 'liblinear'}\n",
      "nan (+/-nan) for {'C': 1, 'penalty': 'elasticnet', 'solver': 'lbfgs'}\n",
      "nan (+/-nan) for {'C': 1, 'penalty': 'elasticnet', 'solver': 'newton-cg'}\n",
      "0.626 (+/-0.151) for {'C': 0.5, 'penalty': 'l1', 'solver': 'liblinear'}\n",
      "nan (+/-nan) for {'C': 0.5, 'penalty': 'l1', 'solver': 'lbfgs'}\n",
      "nan (+/-nan) for {'C': 0.5, 'penalty': 'l1', 'solver': 'newton-cg'}\n",
      "0.739 (+/-0.106) for {'C': 0.5, 'penalty': 'l2', 'solver': 'liblinear'}\n",
      "0.747 (+/-0.109) for {'C': 0.5, 'penalty': 'l2', 'solver': 'lbfgs'}\n",
      "0.747 (+/-0.109) for {'C': 0.5, 'penalty': 'l2', 'solver': 'newton-cg'}\n",
      "nan (+/-nan) for {'C': 0.5, 'penalty': 'elasticnet', 'solver': 'liblinear'}\n",
      "nan (+/-nan) for {'C': 0.5, 'penalty': 'elasticnet', 'solver': 'lbfgs'}\n",
      "nan (+/-nan) for {'C': 0.5, 'penalty': 'elasticnet', 'solver': 'newton-cg'}\n",
      "0.788 (+/-0.173) for {'C': 1.5, 'penalty': 'l1', 'solver': 'liblinear'}\n",
      "nan (+/-nan) for {'C': 1.5, 'penalty': 'l1', 'solver': 'lbfgs'}\n",
      "nan (+/-nan) for {'C': 1.5, 'penalty': 'l1', 'solver': 'newton-cg'}\n",
      "0.857 (+/-0.066) for {'C': 1.5, 'penalty': 'l2', 'solver': 'liblinear'}\n",
      "0.864 (+/-0.069) for {'C': 1.5, 'penalty': 'l2', 'solver': 'lbfgs'}\n",
      "0.864 (+/-0.069) for {'C': 1.5, 'penalty': 'l2', 'solver': 'newton-cg'}\n",
      "nan (+/-nan) for {'C': 1.5, 'penalty': 'elasticnet', 'solver': 'liblinear'}\n",
      "nan (+/-nan) for {'C': 1.5, 'penalty': 'elasticnet', 'solver': 'lbfgs'}\n",
      "nan (+/-nan) for {'C': 1.5, 'penalty': 'elasticnet', 'solver': 'newton-cg'}\n",
      "\n"
     ]
    }
   ],
   "source": [
    "from sklearn.linear_model import LogisticRegression\n",
    "\n",
    "# Set the parameters for the grid search\n",
    "tuned_parameters = [{'penalty': ['l1', 'l2', 'elasticnet'], 'C': [1, 0.5, 1.5],\n",
    "                    'solver': ['liblinear', 'lbfgs', 'newton-cg']}]\n",
    "\n",
    "# Define the metrics to evaluate the model\n",
    "scores = ['accuracy']\n",
    "\n",
    "search_best_model(LogisticRegression(), scores, tuned_parameters, vectorizer_methods)"
   ]
  },
  {
   "cell_type": "markdown",
   "metadata": {},
   "source": [
    "### Support Vector Machine (SVM):"
   ]
  },
  {
   "cell_type": "code",
   "execution_count": 140,
   "metadata": {},
   "outputs": [
    {
     "name": "stdout",
     "output_type": "stream",
     "text": [
      "# Tuning hyper-parameters with CountVectorizer for accuracy\n",
      "\n",
      "Best parameters set found:\n",
      "\n",
      "{'C': 0.7, 'kernel': 'linear'}\n",
      "\n",
      "Best score result: 0.8717948717948717\n",
      "\n",
      "Scores on development set:\n",
      "\n",
      "0.827 (+/-0.156) for {'C': 0.5, 'kernel': 'linear'}\n",
      "0.630 (+/-0.188) for {'C': 0.5, 'kernel': 'poly'}\n",
      "0.676 (+/-0.155) for {'C': 0.5, 'kernel': 'rbf'}\n",
      "0.759 (+/-0.129) for {'C': 0.5, 'kernel': 'sigmoid'}\n",
      "0.872 (+/-0.141) for {'C': 0.7, 'kernel': 'linear'}\n",
      "0.657 (+/-0.168) for {'C': 0.7, 'kernel': 'poly'}\n",
      "0.755 (+/-0.176) for {'C': 0.7, 'kernel': 'rbf'}\n",
      "0.830 (+/-0.134) for {'C': 0.7, 'kernel': 'sigmoid'}\n",
      "0.864 (+/-0.141) for {'C': 1, 'kernel': 'linear'}\n",
      "0.687 (+/-0.150) for {'C': 1, 'kernel': 'poly'}\n",
      "0.819 (+/-0.132) for {'C': 1, 'kernel': 'rbf'}\n",
      "0.838 (+/-0.138) for {'C': 1, 'kernel': 'sigmoid'}\n",
      "0.841 (+/-0.127) for {'C': 1.5, 'kernel': 'linear'}\n",
      "0.683 (+/-0.156) for {'C': 1.5, 'kernel': 'poly'}\n",
      "0.849 (+/-0.108) for {'C': 1.5, 'kernel': 'rbf'}\n",
      "0.861 (+/-0.156) for {'C': 1.5, 'kernel': 'sigmoid'}\n",
      "\n",
      "# Tuning hyper-parameters with TfidfVectorizer for accuracy\n",
      "\n",
      "Best parameters set found:\n",
      "\n",
      "{'C': 1, 'kernel': 'linear'}\n",
      "\n",
      "Best score result: 0.8831908831908832\n",
      "\n",
      "Scores on development set:\n",
      "\n",
      "0.830 (+/-0.115) for {'C': 0.5, 'kernel': 'linear'}\n",
      "0.551 (+/-0.159) for {'C': 0.5, 'kernel': 'poly'}\n",
      "0.672 (+/-0.140) for {'C': 0.5, 'kernel': 'rbf'}\n",
      "0.800 (+/-0.132) for {'C': 0.5, 'kernel': 'sigmoid'}\n",
      "0.876 (+/-0.117) for {'C': 0.7, 'kernel': 'linear'}\n",
      "0.664 (+/-0.133) for {'C': 0.7, 'kernel': 'poly'}\n",
      "0.784 (+/-0.095) for {'C': 0.7, 'kernel': 'rbf'}\n",
      "0.861 (+/-0.096) for {'C': 0.7, 'kernel': 'sigmoid'}\n",
      "0.883 (+/-0.133) for {'C': 1, 'kernel': 'linear'}\n",
      "0.720 (+/-0.143) for {'C': 1, 'kernel': 'poly'}\n",
      "0.841 (+/-0.119) for {'C': 1, 'kernel': 'rbf'}\n",
      "0.880 (+/-0.142) for {'C': 1, 'kernel': 'sigmoid'}\n",
      "0.879 (+/-0.143) for {'C': 1.5, 'kernel': 'linear'}\n",
      "0.728 (+/-0.153) for {'C': 1.5, 'kernel': 'poly'}\n",
      "0.860 (+/-0.103) for {'C': 1.5, 'kernel': 'rbf'}\n",
      "0.880 (+/-0.150) for {'C': 1.5, 'kernel': 'sigmoid'}\n",
      "\n"
     ]
    }
   ],
   "source": [
    "from sklearn.svm import SVC\n",
    "\n",
    "# Set the parameters for the grid search\n",
    "tuned_parameters = [{'C': [0.5, 0.7, 1, 1.5], 'kernel': ['linear', 'poly', 'rbf', 'sigmoid']}]\n",
    "\n",
    "# Define the metrics to evaluate the model\n",
    "scores = ['accuracy']\n",
    "\n",
    "search_best_model(SVC(), scores, tuned_parameters, vectorizer_methods)"
   ]
  },
  {
   "cell_type": "markdown",
   "metadata": {},
   "source": [
    "### Ensemble Methods - Random Forest:"
   ]
  },
  {
   "cell_type": "code",
   "execution_count": 141,
   "metadata": {},
   "outputs": [
    {
     "name": "stdout",
     "output_type": "stream",
     "text": [
      "# Tuning hyper-parameters with CountVectorizer for accuracy\n",
      "\n",
      "Best parameters set found:\n",
      "\n",
      "{'max_depth': 10, 'n_estimators': 300}\n",
      "\n",
      "Best score result: 0.7659544159544159\n",
      "\n",
      "Scores on development set:\n",
      "\n",
      "0.566 (+/-0.116) for {'max_depth': 4, 'n_estimators': 50}\n",
      "0.521 (+/-0.151) for {'max_depth': 4, 'n_estimators': 70}\n",
      "0.562 (+/-0.223) for {'max_depth': 4, 'n_estimators': 100}\n",
      "0.532 (+/-0.134) for {'max_depth': 4, 'n_estimators': 150}\n",
      "0.532 (+/-0.113) for {'max_depth': 4, 'n_estimators': 300}\n",
      "0.694 (+/-0.152) for {'max_depth': 7, 'n_estimators': 50}\n",
      "0.710 (+/-0.192) for {'max_depth': 7, 'n_estimators': 70}\n",
      "0.709 (+/-0.188) for {'max_depth': 7, 'n_estimators': 100}\n",
      "0.683 (+/-0.211) for {'max_depth': 7, 'n_estimators': 150}\n",
      "0.709 (+/-0.178) for {'max_depth': 7, 'n_estimators': 300}\n",
      "0.758 (+/-0.134) for {'max_depth': 10, 'n_estimators': 50}\n",
      "0.758 (+/-0.180) for {'max_depth': 10, 'n_estimators': 70}\n",
      "0.755 (+/-0.179) for {'max_depth': 10, 'n_estimators': 100}\n",
      "0.762 (+/-0.153) for {'max_depth': 10, 'n_estimators': 150}\n",
      "0.766 (+/-0.152) for {'max_depth': 10, 'n_estimators': 300}\n",
      "\n",
      "# Tuning hyper-parameters with TfidfVectorizer for accuracy\n",
      "\n",
      "Best parameters set found:\n",
      "\n",
      "{'max_depth': 10, 'n_estimators': 300}\n",
      "\n",
      "Best score result: 0.7621082621082621\n",
      "\n",
      "Scores on development set:\n",
      "\n",
      "0.566 (+/-0.104) for {'max_depth': 4, 'n_estimators': 50}\n",
      "0.543 (+/-0.104) for {'max_depth': 4, 'n_estimators': 70}\n",
      "0.585 (+/-0.171) for {'max_depth': 4, 'n_estimators': 100}\n",
      "0.563 (+/-0.133) for {'max_depth': 4, 'n_estimators': 150}\n",
      "0.554 (+/-0.159) for {'max_depth': 4, 'n_estimators': 300}\n",
      "0.713 (+/-0.138) for {'max_depth': 7, 'n_estimators': 50}\n",
      "0.683 (+/-0.181) for {'max_depth': 7, 'n_estimators': 70}\n",
      "0.687 (+/-0.211) for {'max_depth': 7, 'n_estimators': 100}\n",
      "0.698 (+/-0.182) for {'max_depth': 7, 'n_estimators': 150}\n",
      "0.683 (+/-0.161) for {'max_depth': 7, 'n_estimators': 300}\n",
      "0.728 (+/-0.155) for {'max_depth': 10, 'n_estimators': 50}\n",
      "0.755 (+/-0.152) for {'max_depth': 10, 'n_estimators': 70}\n",
      "0.755 (+/-0.165) for {'max_depth': 10, 'n_estimators': 100}\n",
      "0.755 (+/-0.165) for {'max_depth': 10, 'n_estimators': 150}\n",
      "0.762 (+/-0.158) for {'max_depth': 10, 'n_estimators': 300}\n",
      "\n"
     ]
    }
   ],
   "source": [
    "from sklearn.ensemble import RandomForestClassifier\n",
    "\n",
    "# Set the parameters for the grid search\n",
    "tuned_parameters = [{'n_estimators': [50, 70, 100, 150, 300],\n",
    "                     'max_depth': [4, 7, 10]}]\n",
    "\n",
    "# Define the metrics to evaluate the model\n",
    "scores = ['accuracy']\n",
    "\n",
    "search_best_model(RandomForestClassifier(), scores, tuned_parameters, vectorizer_methods)"
   ]
  },
  {
   "cell_type": "markdown",
   "metadata": {},
   "source": [
    "I realized that using ensemble models the efficiency goes down and time processing is higher. It's really nothing appropriated for this job."
   ]
  },
  {
   "cell_type": "markdown",
   "metadata": {},
   "source": [
    "### Naive Bayes - Bernoulli:"
   ]
  },
  {
   "cell_type": "code",
   "execution_count": 142,
   "metadata": {},
   "outputs": [
    {
     "name": "stdout",
     "output_type": "stream",
     "text": [
      "# Tuning hyper-parameters with CountVectorizer for accuracy\n",
      "\n",
      "Best parameters set found:\n",
      "\n",
      "{'alpha': 0.3, 'fit_prior': True}\n",
      "\n",
      "Best score result: 0.8679487179487181\n",
      "\n",
      "Scores on development set:\n",
      "\n",
      "0.868 (+/-0.118) for {'alpha': 0.3, 'fit_prior': True}\n",
      "0.864 (+/-0.112) for {'alpha': 0.3, 'fit_prior': False}\n",
      "0.841 (+/-0.102) for {'alpha': 0.5, 'fit_prior': True}\n",
      "0.853 (+/-0.132) for {'alpha': 0.5, 'fit_prior': False}\n",
      "0.702 (+/-0.137) for {'alpha': 1.0, 'fit_prior': True}\n",
      "0.759 (+/-0.119) for {'alpha': 1.0, 'fit_prior': False}\n",
      "\n",
      "# Tuning hyper-parameters with TfidfVectorizer for accuracy\n",
      "\n",
      "Best parameters set found:\n",
      "\n",
      "{'alpha': 0.3, 'fit_prior': True}\n",
      "\n",
      "Best score result: 0.8679487179487181\n",
      "\n",
      "Scores on development set:\n",
      "\n",
      "0.868 (+/-0.118) for {'alpha': 0.3, 'fit_prior': True}\n",
      "0.864 (+/-0.112) for {'alpha': 0.3, 'fit_prior': False}\n",
      "0.841 (+/-0.102) for {'alpha': 0.5, 'fit_prior': True}\n",
      "0.853 (+/-0.132) for {'alpha': 0.5, 'fit_prior': False}\n",
      "0.702 (+/-0.137) for {'alpha': 1.0, 'fit_prior': True}\n",
      "0.759 (+/-0.119) for {'alpha': 1.0, 'fit_prior': False}\n",
      "\n"
     ]
    }
   ],
   "source": [
    "from sklearn.naive_bayes import BernoulliNB\n",
    "\n",
    "# Set the parameters for the grid search\n",
    "tuned_parameters = [{'alpha': [0.3, 0.5, 1.0],\n",
    "                     'fit_prior': [True, False]}]\n",
    "\n",
    "# Define the metrics to evaluate the model\n",
    "scores = ['accuracy']\n",
    "\n",
    "search_best_model(BernoulliNB(), scores, tuned_parameters, vectorizer_methods)"
   ]
  },
  {
   "cell_type": "markdown",
   "metadata": {},
   "source": [
    "## Conclusion and Decision"
   ]
  },
  {
   "cell_type": "markdown",
   "metadata": {},
   "source": [
    "Analyzing our model evaluation pipeline we arrive at the best result for accuracy:\n",
    "\n",
    "- **Best Vectorizer Technique:** Tfidf Vectorizer\n",
    "- **Best Model:** Support Vector Classification (SVC)\n",
    "- **Best parameters set found:** {'C': 1, 'kernel': 'linear'}\n",
    "\n",
    "**Best score result: 0.8831908831908832**"
   ]
  },
  {
   "cell_type": "markdown",
   "metadata": {},
   "source": [
    "## Interaction with the resulting model"
   ]
  },
  {
   "cell_type": "markdown",
   "metadata": {},
   "source": [
    "#### Retraining the model with full dataset to do the interaction"
   ]
  },
  {
   "cell_type": "code",
   "execution_count": 144,
   "metadata": {},
   "outputs": [
    {
     "data": {
      "text/plain": [
       "SVC(C=1, break_ties=False, cache_size=200, class_weight=None, coef0=0.0,\n",
       "    decision_function_shape='ovr', degree=3, gamma='scale', kernel='linear',\n",
       "    max_iter=-1, probability=True, random_state=None, shrinking=True, tol=0.001,\n",
       "    verbose=False)"
      ]
     },
     "execution_count": 144,
     "metadata": {},
     "output_type": "execute_result"
    }
   ],
   "source": [
    "from sklearn.utils import shuffle\n",
    "\n",
    "# best_params = {'loss': 'hinge', 'max_iter': 1000}\n",
    "\n",
    "clf = SVC(C=1, kernel='linear', probability=True)\n",
    "# Shuffling all dataframe to train\n",
    "df_train = shuffle(df)\n",
    "\n",
    "X = df_train['phrase']\n",
    "y = df_train['intent']\n",
    "\n",
    "clf.fit(tfid_vectorizer.fit_transform(X), y)"
   ]
  },
  {
   "cell_type": "markdown",
   "metadata": {},
   "source": [
    "### Interacting:"
   ]
  },
  {
   "cell_type": "code",
   "execution_count": 145,
   "metadata": {},
   "outputs": [
    {
     "name": "stdout",
     "output_type": "stream",
     "text": [
      "Classes to be predicted:\n",
      "['competencias' 'definicoes' 'digitalizacao' 'documentacao'\n",
      " 'processos_administrativos' 'usuario']\n",
      "\n",
      "Prediction Confidence:\n",
      "[0.01228124 0.01699306 0.01554672 0.01881749 0.89581218 0.04054931]\n",
      "\n",
      "Intent Prediction:\n",
      "processos_administrativos\n"
     ]
    }
   ],
   "source": [
    "# TYPE YOUR INPUT PHRASE HERE:\n",
    "INPUT_PHRASE = 'como ocorre a transferência de processos para o SEI?'\n",
    "\n",
    "\n",
    "# Modeling phrase to model predict:\n",
    "input_dict = {'phrase': [INPUT_PHRASE]}\n",
    "df_input = pd.DataFrame.from_dict(input_dict)\n",
    "\n",
    "\n",
    "print(\"Classes to be predicted:\")\n",
    "print(clf.classes_, end='\\n\\n')\n",
    "print(\"Prediction Confidence:\", end='\\n')\n",
    "print(clf.predict_proba(tfid_vectorizer.transform(df_input['phrase']))[0], end='\\n\\n')\n",
    "print(\"Intent Prediction:\")\n",
    "print(clf.predict(tfid_vectorizer.transform(df_input['phrase']))[0])"
   ]
  }
 ],
 "metadata": {
  "colab": {
   "collapsed_sections": [],
   "name": "nlp-test.ipynb",
   "provenance": []
  },
  "kernelspec": {
   "display_name": "Python 3",
   "language": "python",
   "name": "python3"
  },
  "language_info": {
   "codemirror_mode": {
    "name": "ipython",
    "version": 3
   },
   "file_extension": ".py",
   "mimetype": "text/x-python",
   "name": "python",
   "nbconvert_exporter": "python",
   "pygments_lexer": "ipython3",
   "version": "3.6.7"
  }
 },
 "nbformat": 4,
 "nbformat_minor": 4
}
