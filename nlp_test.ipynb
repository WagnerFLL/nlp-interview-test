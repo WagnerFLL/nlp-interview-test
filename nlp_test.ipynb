{
  "nbformat": 4,
  "nbformat_minor": 0,
  "metadata": {
    "colab": {
      "name": "Untitled2.ipynb",
      "provenance": [],
      "authorship_tag": "ABX9TyMotw/HFOVSmgFe6tUB+AsK",
      "include_colab_link": true
    },
    "kernelspec": {
      "name": "python3",
      "display_name": "Python 3"
    }
  },
  "cells": [
    {
      "cell_type": "markdown",
      "metadata": {
        "id": "view-in-github",
        "colab_type": "text"
      },
      "source": [
        "<a href=\"https://colab.research.google.com/github/lucasraggi89/nlp-interview-test/blob/master/nlp_test.ipynb\" target=\"_parent\"><img src=\"https://colab.research.google.com/assets/colab-badge.svg\" alt=\"Open In Colab\"/></a>"
      ]
    },
    {
      "cell_type": "markdown",
      "metadata": {
        "id": "5JWXZ-E26KOf",
        "colab_type": "text"
      },
      "source": [
        "# NLP Engineer Internship Test\n",
        "\n",
        "## Objective\n",
        "\n",
        "- Make an intent classifier with the dataset provided in the repository in which the imput will be a phrase and the model must correctly classify it in one of the intentions defined in the dataset\n",
        "- The main objective of the test is to assess the candidate's ability to solve problems and demonstrate his attempts, hypotheses, solutions clearly\n",
        "\n",
        "### Example interaction\n",
        "Just a demonstrative example to understand the problem, the output can be formatted according to the candidate's preference so that it shows the intention and the confidentiality\n",
        "```\n",
        "input: meu marido me agrediu\n",
        "output: violence: 95.0%\n",
        "```\n",
        "\n",
        "## Requirements\n",
        "- Put all the code, logic, hypotheses, etc. organized in the jupyter notebook of the repository (i.e. specific actions you would take based on your analysis) and methodology.\n",
        "- Support your findings with relevant charts/visualisations, which you can place in an appendix.\n",
        "\n",
        "## Information about the datasets\n",
        "\n",
        "The dataset is in the dataset.txt file, it is in the format:\n",
        "\n",
        "```\n",
        "intent1\n",
        "--sentence1\n",
        "--sentence2\n",
        "...\n",
        "--sentenceN\n",
        "\n",
        "intent2\n",
        "--sentence1\n",
        "--sentence2\n",
        "...\n",
        "--sentenceN\n",
        "\n",
        "...\n",
        "```\n",
        "\n",
        "Have fun!\n",
        "\n",
        "\n"
      ]
    },
    {
      "cell_type": "code",
      "metadata": {
        "id": "t1c6wBln6aT1",
        "colab_type": "code",
        "colab": {}
      },
      "source": [
        ""
      ],
      "execution_count": 0,
      "outputs": []
    },
    {
      "cell_type": "code",
      "metadata": {
        "id": "gn0sWRCSx89T",
        "colab_type": "code",
        "colab": {}
      },
      "source": [
        ""
      ],
      "execution_count": 0,
      "outputs": []
    }
  ]
}